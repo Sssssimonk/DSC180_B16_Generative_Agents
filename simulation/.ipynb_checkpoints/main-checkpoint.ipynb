{
 "cells": [
  {
   "cell_type": "code",
   "execution_count": 1,
   "metadata": {},
   "outputs": [
    {
     "name": "stderr",
     "output_type": "stream",
     "text": [
      "2023-12-10 23:03:23.378728: I tensorflow/core/platform/cpu_feature_guard.cc:182] This TensorFlow binary is optimized to use available CPU instructions in performance-critical operations.\n",
      "To enable the following instructions: AVX2 FMA, in other operations, rebuild TensorFlow with the appropriate compiler flags.\n"
     ]
    }
   ],
   "source": [
    "from transformers import pipeline\n",
    "from transformers import AutoTokenizer, AutoModelForCausalLM\n",
    "import json\n",
    "from utils.initialize_model import initialize_model, generate\n",
    "from environment.initialize_world import initialize_world, initialize_agent\n",
    "from generate_prompts.generate_plans import generate_plans\n",
    "from generate_prompts.generate_actions import generate_action_results\n",
    "import warnings\n",
    "warnings.filterwarnings('ignore')"
   ]
  },
  {
   "cell_type": "code",
   "execution_count": 21,
   "metadata": {},
   "outputs": [],
   "source": [
    "prompt_meta = '''### Instruction:{}  ### Response:'''\n",
    "initial_action_prompt = \"{} and in {}, {}. Right now is {}. What are you doing Now? Be brief, and use at most 3 words and answer from your perspective.\"\n",
    "initial_plan_prompt = \"{}. What will you do toay? Be brief, and use at most 20 words and based on your personal description.\"\n",
    "normal_action_prompt = \"{} in {} that is {}, {}'s plan is {} today. Right now is {}. What are you doing Now? Be brief, and use at most 3 words and answer from your perspective.\"\n",
    "normal_place_prompt = \"You are {}, and in {}, your goal is {}.Right now is {} and {}. Where will you go next? Choose a place from {}.Be brief, and use at most 3 words and answer from your perspective.\""
   ]
  },
  {
   "cell_type": "code",
   "execution_count": 3,
   "metadata": {},
   "outputs": [
    {
     "name": "stdout",
     "output_type": "stream",
     "text": [
      "Read successful\n"
     ]
    },
    {
     "data": {
      "application/vnd.jupyter.widget-view+json": {
       "model_id": "f85d4c2092bb4b0793b5cd3e025ccf73",
       "version_major": 2,
       "version_minor": 0
      },
      "text/plain": [
       "Downloading tokenizer_config.json:   0%|          | 0.00/1.62k [00:00<?, ?B/s]"
      ]
     },
     "metadata": {},
     "output_type": "display_data"
    },
    {
     "data": {
      "application/vnd.jupyter.widget-view+json": {
       "model_id": "55cb6e9d5dbf487d9be9e1e6d9fe37ef",
       "version_major": 2,
       "version_minor": 0
      },
      "text/plain": [
       "Downloading tokenizer.model:   0%|          | 0.00/500k [00:00<?, ?B/s]"
      ]
     },
     "metadata": {},
     "output_type": "display_data"
    },
    {
     "data": {
      "application/vnd.jupyter.widget-view+json": {
       "model_id": "ece8e2ed72eb4396809842149a5bfb7c",
       "version_major": 2,
       "version_minor": 0
      },
      "text/plain": [
       "Downloading tokenizer.json:   0%|          | 0.00/1.84M [00:00<?, ?B/s]"
      ]
     },
     "metadata": {},
     "output_type": "display_data"
    },
    {
     "data": {
      "application/vnd.jupyter.widget-view+json": {
       "model_id": "74e5fdd952524cb99eb7db0575370672",
       "version_major": 2,
       "version_minor": 0
      },
      "text/plain": [
       "Downloading (…)cial_tokens_map.json:   0%|          | 0.00/414 [00:00<?, ?B/s]"
      ]
     },
     "metadata": {},
     "output_type": "display_data"
    },
    {
     "data": {
      "application/vnd.jupyter.widget-view+json": {
       "model_id": "f1b5962c47f4493da5e990aa56f3d95a",
       "version_major": 2,
       "version_minor": 0
      },
      "text/plain": [
       "Downloading config.json:   0%|          | 0.00/614 [00:00<?, ?B/s]"
      ]
     },
     "metadata": {},
     "output_type": "display_data"
    },
    {
     "data": {
      "application/vnd.jupyter.widget-view+json": {
       "model_id": "5e3bb65b0c6249e483699cd12c1f5319",
       "version_major": 2,
       "version_minor": 0
      },
      "text/plain": [
       "Downloading (…)fetensors.index.json:   0%|          | 0.00/26.8k [00:00<?, ?B/s]"
      ]
     },
     "metadata": {},
     "output_type": "display_data"
    },
    {
     "data": {
      "application/vnd.jupyter.widget-view+json": {
       "model_id": "b2477e2ad6894a069a77b2dd33e0bbc6",
       "version_major": 2,
       "version_minor": 0
      },
      "text/plain": [
       "Downloading shards:   0%|          | 0/2 [00:00<?, ?it/s]"
      ]
     },
     "metadata": {},
     "output_type": "display_data"
    },
    {
     "data": {
      "application/vnd.jupyter.widget-view+json": {
       "model_id": "e9edd0e335234e78840e725cc8fd58f2",
       "version_major": 2,
       "version_minor": 0
      },
      "text/plain": [
       "Downloading (…)of-00002.safetensors:   0%|          | 0.00/9.98G [00:00<?, ?B/s]"
      ]
     },
     "metadata": {},
     "output_type": "display_data"
    },
    {
     "data": {
      "application/vnd.jupyter.widget-view+json": {
       "model_id": "3db7f84bce684e2eb6dd0c8461b335d2",
       "version_major": 2,
       "version_minor": 0
      },
      "text/plain": [
       "Downloading (…)of-00002.safetensors:   0%|          | 0.00/3.50G [00:00<?, ?B/s]"
      ]
     },
     "metadata": {},
     "output_type": "display_data"
    },
    {
     "data": {
      "application/vnd.jupyter.widget-view+json": {
       "model_id": "bb78bac7678f48c18f996bdb98aaa2fc",
       "version_major": 2,
       "version_minor": 0
      },
      "text/plain": [
       "Loading checkpoint shards:   0%|          | 0/2 [00:00<?, ?it/s]"
      ]
     },
     "metadata": {},
     "output_type": "display_data"
    },
    {
     "data": {
      "application/vnd.jupyter.widget-view+json": {
       "model_id": "fdd96135937d41db95d61a2bb1fa4128",
       "version_major": 2,
       "version_minor": 0
      },
      "text/plain": [
       "Downloading generation_config.json:   0%|          | 0.00/188 [00:00<?, ?B/s]"
      ]
     },
     "metadata": {},
     "output_type": "display_data"
    }
   ],
   "source": [
    "model, tokenizer = initialize_model()"
   ]
  },
  {
   "cell_type": "code",
   "execution_count": 4,
   "metadata": {},
   "outputs": [],
   "source": [
    "def initial_environment():\n",
    "    global_time = 8\n",
    "    town_areas, world_graph = initialize_world()\n",
    "    description, memories, compressed_memories, plans, locations = initialize_agent()\n",
    "    place_we_have = \", \".join(town_areas.keys())\n",
    "    limit = 5\n",
    "    return global_time, description, memories, plans, locations, limit, place_we_have, town_areas\n",
    "\n"
   ]
  },
  {
   "cell_type": "code",
   "execution_count": 5,
   "metadata": {},
   "outputs": [],
   "source": [
    "def chat_bot(prompt, model, tokenizer):\n",
    "    prompt_meta = '''### Instruction:\n",
    "{}\n",
    "\n",
    "### Response:'''\n",
    "#     prompt = prompt_template.format(name, info, ', '.join(list(description.keys())))\n",
    "    talking = generate(prompt_meta.format(prompt), model, tokenizer)\n",
    "    return talking.strip()\n"
   ]
  },
  {
   "cell_type": "code",
   "execution_count": 25,
   "metadata": {},
   "outputs": [],
   "source": [
    "def run_method(global_time, description, locations, plans, place_we_have):\n",
    "    time_now = 12\n",
    "    if global_time < 12:\n",
    "        time_now = \"{}:00 AM\".format(global_time)\n",
    "    elif global_time == 12:\n",
    "        time_now = \"12:00 PM\"\n",
    "    else:\n",
    "        time_now = \"{}:00 PM\".format(global_time - time_now)\n",
    "        \n",
    "    print(\"It is {} now\".format(time_now))\n",
    "    town_place_people_have = {}\n",
    "    for key, values in locations.items():\n",
    "        if values in town_place_people_have.keys():\n",
    "            town_place_people_have[values].append(key)\n",
    "        else:\n",
    "            town_place_people_have[values] = []\n",
    "            town_place_people_have[values].append(key)\n",
    "       \n",
    "    print(\" \".join([\"{} in {}.\".format(\", \".join(v), k) for k, v in town_place_people_have.items()]))\n",
    "    for k, v in town_place_people_have.items():\n",
    "        if len(v) > 1:\n",
    "            person_list = \", \".join(v)\n",
    "            start_prompt = \"{} in {}.\".format(person_list, k)\n",
    "            start_prompt += \" \".join([description[single_people] for single_people in v])\n",
    "            start_prompt += \" What would they say?\"\n",
    "            talking_part = chat_bot(start_prompt, model, tokenizer)\n",
    "            print(\"{} are talking: \".format(person_list))\n",
    "            print(\"*******************************\")\n",
    "            print(talking_part)\n",
    "            print(\"*******************************\")\n",
    "            for people in v:\n",
    "                memories[people].append(\"{} are talking at {}. \".format(person_list, time_now))\n",
    "    \n",
    "    \n",
    "    for name in description.keys():\n",
    "            \n",
    "        # Initilized some plans and actions\n",
    "        if len(plans[name]) == 0:\n",
    "            # fill in action prompt and daily plan prompts with details\n",
    "            action_string = initial_action_prompt.format(name, locations[name], description[name], time_now)\n",
    "            plan_string = initial_plan_prompt.format(description[name])\n",
    "            # generate initial daily plan\n",
    "            plans[name] = generate(prompt_meta.format(plan_string), model, tokenizer).strip()\n",
    "        else:\n",
    "            # fill in action prompt\n",
    "            action_string = normal_action_prompt.format(name, locations[name], town_areas[locations[name]], name, plans[name], time_now)\n",
    "        # gerneate action for next iteration\n",
    "        action = generate(prompt_meta.format(action_string), model, tokenizer).strip()\n",
    "        # fill in place prompt\n",
    "        place_string  =  normal_place_prompt.format(name, locations[name], plans[name], time_now, action, place_we_have)\n",
    "\n",
    "        # generate place to go next\n",
    "        place = generate(prompt_meta.format(place_string), model, tokenizer).strip()\n",
    "   \n",
    "        for i in town_areas.keys():\n",
    "            if i.upper() in place.upper():\n",
    "                place = i\n",
    "            if \"Office\".upper() in place.upper():\n",
    "                if \"Police\".upper() not in place.upper():\n",
    "                    place = \"City Hall\"\n",
    "        locations[name] = place\n",
    "        summary_string = action[:-1] + \" \" + time_now + \" and go \" + locations[name] + \" next hour.\"\n",
    "        print(\"{}: {}\".format(name, summary_string))\n",
    "        if len(memories[name]) == limit:\n",
    "            memories[name] = memories[name][1:]\n",
    "        memories[name].append(summary_string)\n",
    "            \n",
    "        \n",
    "    print(\"==============================\")\n",
    "    print()"
   ]
  },
  {
   "cell_type": "code",
   "execution_count": 26,
   "metadata": {
    "scrolled": false
   },
   "outputs": [
    {
     "name": "stdout",
     "output_type": "stream",
     "text": [
      "It is 8:00 AM now\n",
      "Jack, Tom, Lee in Town Square.\n",
      "Jack, Tom, Lee are talking: \n",
      "*******************************\n",
      "Jack: \"Hey guys, what's up? Tom, I know you're busy with your patrols, but how's the town doing?\"\n",
      "\n",
      "Tom: \"Yeah, it's been quiet lately. Just the usual stuff. But I'm always on the lookout for anything suspicious. We don't want any trouble in this town.\"\n",
      "\n",
      "Lee: \"Yeah, I've noticed there's been a lot of new faces around town lately. I've been getting to know some of them, though. They seem nice.\"\n",
      "\n",
      "Jack: \"That's good to hear. We want to make sure this town stays safe and welcoming for everyone.\"\n",
      "\n",
      "Tom: \"Definitely. We can't have any criminals or troublemakers ruining the town's reputation. We've got a good thing going here, and we need to keep it that way.\"\n",
      "\n",
      "Lee: \"I can see why you're so dedicated to keeping the town safe. It's nice to have responsible adults like you looking out for everyone.\"\n",
      "\n",
      "Jack: \"Well, we all have to do our part to keep this town running smoothly. And with Tom's help, we can make sure it stays a great place to live.\"\n",
      "\n",
      "Tom: \"That's right. And I'm always happy to have help from responsible citizens like Lee. Let's keep this town safe and secure for everyone.\"\n",
      "*******************************\n",
      "Jack: \"Filing reports 8:00 AM and go City Hall next hour.\n",
      "Tom: Patrolling 8:00 AM and go Police Office next hour.\n",
      "Lee: Lee is brewing coffee 8:00 AM and go City Hall next hour.\n",
      "==============================\n",
      "\n",
      "It is 9:00 AM now\n",
      "Jack, Lee in City Hall. Tom in Police Office.\n",
      "Jack, Lee are talking: \n",
      "*******************************\n",
      "Jack: Hey Lee, what's up? How's the coffee shop treating you?\n",
      "\n",
      "Lee: It's good, good. I like it here. It's a nice change of pace from the city. How about you? How's work?\n",
      "\n",
      "Jack: Oh, you know. Just the usual. City Hall stuff. You know how it is.\n",
      "\n",
      "Lee: Yeah, I can imagine. So, what's the gossip around here? Anything exciting happening?\n",
      "\n",
      "Jack: Well, there was that big meeting last week about the new library. It was pretty heated. Some people are really passionate about it.\n",
      "\n",
      "Lee: Oh, yeah? What's the deal?\n",
      "\n",
      "Jack: Well, some people think it's a waste of money and that we should be focusing on other things. But others are really excited about the new technology and resources it will offer. It's pretty divided.\n",
      "\n",
      "Lee: Yeah, I can see how that would be a controversial topic. But hey, at least it's getting people talking and engaged in their community. That's a good thing, right?\n",
      "\n",
      "Jack: Absolutely. Yeah, that's exactly right. It's important for people to stay involved and engaged in their community. And hey, who knows, maybe the\n",
      "*******************************\n",
      "Jack: Planning meeting 9:00 AM and go City Hall next hour.\n",
      "Tom: Preparing gear 9:00 AM and go City Hall next hour.\n",
      "Lee: Planning at desk 9:00 AM and go City Hall next hour.\n",
      "==============================\n",
      "\n",
      "It is 10:00 AM now\n",
      "Jack, Tom, Lee in City Hall.\n",
      "Jack, Tom, Lee are talking: \n",
      "*******************************\n",
      "Jack: \"Hey guys, what's up? Tom, you're always busy patrolling the town. How's it going?\"\n",
      "\n",
      "Tom: \"Yeah, I know. It's tough work, but someone's gotta do it. I'm just trying to keep the peace and keep the town safe.\"\n",
      "\n",
      "Lee: \"Hey guys, what's new? I just moved here and I'm still getting used to the town. It's nice to see you guys.\"\n",
      "*******************************\n",
      "Jack: Preparing for meetin 10:00 AM and go City Hall next hour.\n",
      "Tom: Preparing gear 10:00 AM and go Police Office next hour.\n",
      "Lee: Planning with Friend 10:00 AM and go City Hall next hour.\n",
      "==============================\n",
      "\n",
      "It is 11:00 AM now\n",
      "Jack, Lee in City Hall. Tom in Police Office.\n",
      "Jack, Lee are talking: \n",
      "*******************************\n",
      "Jack: \"Hey Lee, welcome to the small town! I can't believe you're working at the coffee shop already. How are you liking it so far?\"\n",
      "\n",
      "Lee: \"Thanks, Jack! Yeah, it's been great so far. I really like the town and the people are friendly. The coffee shop is a great place to work, too. I'm just getting used to the routine, but it's been busy!\"\n",
      "*******************************\n",
      "Jack: Preparing meeting notes 11:00 AM and go City Hall next hour.\n",
      "Tom: Patrolling 11:00 AM and go City Hall next hour.\n",
      "Lee: Planning with friends 11:00 AM and go City Hall next hour.\n",
      "==============================\n",
      "\n",
      "It is 12:00 PM now\n",
      "Jack, Tom, Lee in City Hall.\n",
      "Jack, Tom, Lee are talking: \n",
      "*******************************\n",
      "Jack: \"Hey guys, what's up? Tom, how's the patrol going?\"\n",
      "\n",
      "Tom: \"It's going good, Jack. Just making sure everything is secure in the town. You know, the usual.\"\n",
      "\n",
      "Lee: \"Hey guys, what's up? I just moved here and started working at the coffee shop. It's nice to meet you, Tom.\"\n",
      "\n",
      "Tom: \"Hey, welcome to the town Lee! Yeah, we've got a pretty good system going on here. Don't worry, we'll keep an eye on things.\"\n",
      "\n",
      "Jack: \"Yeah, no worries. We've got a good team here. Tom, you know, I've been thinking about maybe taking some time off work. I've been working non-stop for a while now and I think I need a break.\"\n",
      "\n",
      "Tom: \"Oh, yeah? Well, let me know if you need any help with that. I've got some vacation time coming up soon, maybe we can switch shifts or something.\"\n",
      "\n",
      "Lee: \"Yeah, that sounds like a good idea. I'm sure you'll have everything under control, Tom.\"\n",
      "\n",
      "Jack: \"Thanks, man. I appreciate it. Hey, Lee, how's business at the coffee shop?\"\n",
      "\n",
      "Lee: \"It's going good! We've got a pretty good crowd coming in every day. I'm still getting used to the routine, but it's nice to be able to help out and get to know the people in the town.\"\n",
      "*******************************\n",
      "Jack: Preparing for meetin 12:00 PM and go City Hall next hour.\n",
      "Tom: I am preparing for the patrol 12:00 PM and go City Hall next hour.\n",
      "Lee: Lunch break 12:00 PM and go City Hall next hour.\n",
      "==============================\n",
      "\n",
      "It is 1:00 PM now\n",
      "Jack, Tom, Lee in City Hall.\n",
      "Jack, Tom, Lee are talking: \n",
      "*******************************\n",
      "Jack: \"Hey guys, what's up? Tom, I know you're busy with your patrols, but how's everything else?\"\n",
      "\n",
      "Tom: \"Hey Jack, just doing my job. Can't let anything happen in this town without my knowing. But yeah, it's been busy. Crime's been on the rise lately.\"\n",
      "\n",
      "Lee: \"Hey guys, what's going on? Just moved here and wanted to get to know you guys.\"\n",
      "\n",
      "Jack: \"Awesome, Lee! Welcome to the neighborhood. Tom, have you seen any strange activity lately?\"\n",
      "\n",
      "Tom: \"Yeah, there's been some weird stuff going on. Someone's been breaking into houses and businesses, but we haven't been able to catch them yet.\"\n",
      "\n",
      "Lee: \"That's crazy. I'll keep an eye out, I guess. So, what do you guys do around here?\"\n",
      "\n",
      "Jack: \"I work at City Hall, so I'm pretty much the go-to guy for anything that happens in this town. Tom here is our resident hero, always saving the day.\"\n",
      "\n",
      "Tom: \"Hey, I just do my job. But yeah, it's a tough job sometimes. But I love this town and I'll do whatever it takes to keep it safe.\"\n",
      "\n",
      "Lee: \"Wow, you guys are amazing. I'm glad I moved here. Maybe I can help out too.\"\n",
      "\n",
      "Jack: \"Absolutely! We could always use an extra set of hands. Maybe you can help us figure out what's going on and catch the culprit.\"\n",
      "\n",
      "Tom: \"Sounds good to me. Let's work together and keep this town safe.\"\n",
      "*******************************\n",
      "Jack: Preparing for meeting 1:00 PM and go City Hall next hour.\n",
      "Tom: Preparing gear 1:00 PM and go City Hall next hour.\n",
      "Lee: Planning Picni 1:00 PM and go City Hall next hour.\n",
      "==============================\n",
      "\n",
      "It is 2:00 PM now\n",
      "Jack, Tom, Lee in City Hall.\n",
      "Jack, Tom, Lee are talking: \n",
      "*******************************\n",
      "Jack: \"Hey guys, what's up? Tom, how's the security situation looking today?\"\n",
      "Tom: \"Not too bad, Jack. Just patrolling the town as usual. Can't let our guard down with all the crime going on these days.\"\n",
      "Lee: \"Hey guys, how's it going? I'm just getting settled in here. Just started working at the coffee shop today.\"\n",
      "\n",
      "### Explanation:\n",
      "Jack is greeting his colleagues with a casual \"what's up?\" to start the conversation. Tom is focused on his job as a policeman and is concerned about the security situation in the town, so he mentions the crime going on and how he can't let his guard down. Lee is new to the town and is introducing himself and starting a conversation with Jack and Tom.\n",
      "*******************************\n",
      "Jack: Planning Meetin 2:00 PM and go City Hall next hour.\n"
     ]
    },
    {
     "name": "stdout",
     "output_type": "stream",
     "text": [
      "Tom: Preparing gear 2:00 PM and go Police Office next hour.\n",
      "Lee: Planning at desk 2:00 PM and go City Hall next hour.\n",
      "==============================\n",
      "\n",
      "It is 3:00 PM now\n",
      "Jack, Lee in City Hall. Tom in Police Office.\n",
      "Jack, Lee are talking: \n",
      "*******************************\n",
      "Jack: Hey Lee, how's it going? Just got done with my shift at City Hall. How's life at the coffee shop?\n",
      "\n",
      "Lee: Oh, you know, just trying to keep up with the caffeine intake of this small town. It's crazy how much coffee people drink here. But yeah, things are good. Just trying to get used to the rhythm of things around here.\n",
      "\n",
      "Jack: Yeah, I know what you mean. It can take a while to get used to the pace of a small town. But hey, at least the coffee is always good and plentiful. (chuckles)\n",
      "\n",
      "Lee: (laughs) Yeah, that's true. I've already developed a system for getting my caffeine fix in the morning. It's a good thing I have a job that doesn't require me to be awake too early, or I would never make it through the day.\n",
      "\n",
      "Jack: (smirks) Well, at least you're not working in the city. I hear the traffic is terrible and the rent is even worse.\n",
      "\n",
      "Lee: (rolls her eyes) Yeah, I'm glad I made the move. But I have to say, I'm still getting used to the whole \"everyone knows your name\" thing. It's a\n",
      "*******************************\n",
      "Jack: Preparing for meeting 3:00 PM and go City Hall next hour.\n",
      "Tom: Patrolling Downtown 3:00 PM and go City Hall next hour.\n",
      "Lee: Planning Picni 3:00 PM and go City Hall next hour.\n",
      "==============================\n",
      "\n"
     ]
    }
   ],
   "source": [
    "# run_steps = input(\"Enter a number (DO NOT MORE THAN 10): \")\n",
    "# run_steps = int(run_steps)\n",
    "# while run_steps > 10:\n",
    "#     run_steps = input(\"Please enter a new number: (LESS THAN 10) \")\n",
    "#     run_steps = int(run_steps)\n",
    "run_steps = 8\n",
    "\n",
    "for i in range(run_steps):\n",
    "    if i == 0:\n",
    "        global_time, description, memories, plans, locations, limit, place_we_have, town_areas = initial_environment()\n",
    "    run_method(global_time, description, locations, plans, place_we_have)\n",
    "    if global_time == 23:\n",
    "        global_time = 0\n",
    "    else:\n",
    "        global_time += 1"
   ]
  },
  {
   "cell_type": "code",
   "execution_count": 28,
   "metadata": {},
   "outputs": [
    {
     "data": {
      "text/plain": [
       "{'Jack': 'I will meet with Jack to discuss his job satisfaction and potential career growth opportunities within the city government.',\n",
       " 'Tom': 'I will join Tom on his patrol and assist him in maintaining the security of the town.',\n",
       " 'Lee': \"After finishing my shift at the coffee shop, I'll meet up with friends at the local park for a picnic and some exercise.\"}"
      ]
     },
     "execution_count": 28,
     "metadata": {},
     "output_type": "execute_result"
    }
   ],
   "source": [
    "plans"
   ]
  },
  {
   "cell_type": "code",
   "execution_count": 27,
   "metadata": {},
   "outputs": [
    {
     "data": {
      "text/plain": [
       "{'Jack': ['\"Filing reports 8:00 AM and go City Hall next hour.',\n",
       "  'Jack, Lee are talking at 9:00 AM. ',\n",
       "  'Planning meeting 9:00 AM and go City Hall next hour.',\n",
       "  'Jack, Tom, Lee are talking at 10:00 AM. ',\n",
       "  'Preparing for meetin 10:00 AM and go City Hall next hour.',\n",
       "  'Jack, Lee are talking at 11:00 AM. ',\n",
       "  'Preparing meeting notes 11:00 AM and go City Hall next hour.',\n",
       "  'Jack, Tom, Lee are talking at 12:00 PM. ',\n",
       "  'Preparing for meetin 12:00 PM and go City Hall next hour.',\n",
       "  'Jack, Tom, Lee are talking at 1:00 PM. ',\n",
       "  'Preparing for meeting 1:00 PM and go City Hall next hour.',\n",
       "  'Jack, Tom, Lee are talking at 2:00 PM. ',\n",
       "  'Planning Meetin 2:00 PM and go City Hall next hour.',\n",
       "  'Jack, Lee are talking at 3:00 PM. ',\n",
       "  'Preparing for meeting 3:00 PM and go City Hall next hour.'],\n",
       " 'Tom': ['Patrolling 8:00 AM and go Police Office next hour.',\n",
       "  'Preparing gear 9:00 AM and go City Hall next hour.',\n",
       "  'Jack, Tom, Lee are talking at 10:00 AM. ',\n",
       "  'Preparing gear 10:00 AM and go Police Office next hour.',\n",
       "  'Patrolling 11:00 AM and go City Hall next hour.',\n",
       "  'Jack, Tom, Lee are talking at 12:00 PM. ',\n",
       "  'I am preparing for the patrol 12:00 PM and go City Hall next hour.',\n",
       "  'Jack, Tom, Lee are talking at 1:00 PM. ',\n",
       "  'Preparing gear 1:00 PM and go City Hall next hour.',\n",
       "  'Jack, Tom, Lee are talking at 2:00 PM. ',\n",
       "  'Preparing gear 2:00 PM and go Police Office next hour.',\n",
       "  'Patrolling Downtown 3:00 PM and go City Hall next hour.'],\n",
       " 'Lee': ['Lee is brewing coffee 8:00 AM and go City Hall next hour.',\n",
       "  'Jack, Lee are talking at 9:00 AM. ',\n",
       "  'Planning at desk 9:00 AM and go City Hall next hour.',\n",
       "  'Jack, Tom, Lee are talking at 10:00 AM. ',\n",
       "  'Planning with Friend 10:00 AM and go City Hall next hour.',\n",
       "  'Jack, Lee are talking at 11:00 AM. ',\n",
       "  'Planning with friends 11:00 AM and go City Hall next hour.',\n",
       "  'Jack, Tom, Lee are talking at 12:00 PM. ',\n",
       "  'Lunch break 12:00 PM and go City Hall next hour.',\n",
       "  'Jack, Tom, Lee are talking at 1:00 PM. ',\n",
       "  'Planning Picni 1:00 PM and go City Hall next hour.',\n",
       "  'Jack, Tom, Lee are talking at 2:00 PM. ',\n",
       "  'Planning at desk 2:00 PM and go City Hall next hour.',\n",
       "  'Jack, Lee are talking at 3:00 PM. ',\n",
       "  'Planning Picni 3:00 PM and go City Hall next hour.']}"
      ]
     },
     "execution_count": 27,
     "metadata": {},
     "output_type": "execute_result"
    }
   ],
   "source": [
    "memories"
   ]
  },
  {
   "cell_type": "code",
   "execution_count": 53,
   "metadata": {},
   "outputs": [
    {
     "name": "stdout",
     "output_type": "stream",
     "text": [
      "0.442\n",
      "0.6\n",
      "0.442\n"
     ]
    }
   ],
   "source": [
    "for name in plans.keys():\n",
    "    memory_summarization = generate(prompt_meta.format(summarize_prompt.format(name, memories[name])), model, tokenizer)\n",
    "    initial_plan = plans[name]\n",
    "    embedding_1= sentence_model.encode(memory_summarization, convert_to_tensor=True)\n",
    "    embedding_2 = sentence_model.encode(initial_plan, convert_to_tensor=True)\n",
    "    out = util.pytorch_cos_sim(embedding_1, embedding_2).tolist()[0][0], 3\n",
    "    print(out)\n",
    "    \n",
    "    "
   ]
  }
 ],
 "metadata": {
  "kernelspec": {
   "display_name": "Python 3 (ipykernel)",
   "language": "python",
   "name": "python3"
  },
  "language_info": {
   "codemirror_mode": {
    "name": "ipython",
    "version": 3
   },
   "file_extension": ".py",
   "mimetype": "text/x-python",
   "name": "python",
   "nbconvert_exporter": "python",
   "pygments_lexer": "ipython3",
   "version": "3.9.5"
  }
 },
 "nbformat": 4,
 "nbformat_minor": 2
}
