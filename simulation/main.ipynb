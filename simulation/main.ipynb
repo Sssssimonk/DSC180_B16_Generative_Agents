{
 "cells": [
  {
   "cell_type": "code",
   "execution_count": 1,
   "metadata": {},
   "outputs": [
    {
     "name": "stderr",
     "output_type": "stream",
     "text": [
      "2023-12-07 19:13:45.564062: I tensorflow/core/platform/cpu_feature_guard.cc:182] This TensorFlow binary is optimized to use available CPU instructions in performance-critical operations.\n",
      "To enable the following instructions: AVX2 FMA, in other operations, rebuild TensorFlow with the appropriate compiler flags.\n"
     ]
    }
   ],
   "source": [
    "from transformers import pipeline\n",
    "from transformers import AutoTokenizer, AutoModelForCausalLM\n",
    "import json\n",
    "from utils.initialize_model import initialize_model, generate\n",
    "from environment.initialize_world import initialize_world, initialize_agent\n",
    "from generate_prompts.generate_plans import generate_plans\n",
    "from generate_prompts.generate_actions import generate_action_results"
   ]
  },
  {
   "cell_type": "code",
   "execution_count": 2,
   "metadata": {},
   "outputs": [
    {
     "name": "stdout",
     "output_type": "stream",
     "text": [
      "Read successful\n",
      "\n",
      "===================================BUG REPORT===================================\n",
      "Welcome to bitsandbytes. For bug reports, please run\n",
      "\n",
      "python -m bitsandbytes\n",
      "\n",
      " and submit this information together with your error trace to: https://github.com/TimDettmers/bitsandbytes/issues\n",
      "================================================================================\n",
      "CUDA SETUP: CUDA runtime path found: /opt/conda/pkgs/cudatoolkit-11.8.0-h4ba93d1_12/lib/libcudart.so\n",
      "CUDA SETUP: Highest compute capability among GPUs detected: 6.1\n",
      "CUDA SETUP: Detected CUDA version 118\n",
      "CUDA SETUP: Loading binary /home/yehe/.local/lib/python3.9/site-packages/bitsandbytes/libbitsandbytes_cuda118_nocublaslt.so...\n"
     ]
    },
    {
     "name": "stderr",
     "output_type": "stream",
     "text": [
      "/home/yehe/.local/lib/python3.9/site-packages/bitsandbytes/cuda_setup/main.py:147: UserWarning: WARNING: The following directories listed in your path were found to be non-existent: {PosixPath('/usr/local/nvidia/lib'), PosixPath('/opt/conda/pkgs/cudatoolkit-11.2.2-he111cf0_8/lib'), PosixPath('/opt/conda/pkgs/cudnn-8.2.1.32-h86fa8c9_0/lib')}\n",
      "  warn(msg)\n",
      "/home/yehe/.local/lib/python3.9/site-packages/bitsandbytes/cuda_setup/main.py:147: UserWarning: WARNING: Compute capability < 7.5 detected! Only slow 8-bit matmul is supported for your GPU!\n",
      "  warn(msg)\n"
     ]
    },
    {
     "data": {
      "application/vnd.jupyter.widget-view+json": {
       "model_id": "00ac5d0741d64171842ae471d5c308c4",
       "version_major": 2,
       "version_minor": 0
      },
      "text/plain": [
       "Loading checkpoint shards:   0%|          | 0/2 [00:00<?, ?it/s]"
      ]
     },
     "metadata": {},
     "output_type": "display_data"
    },
    {
     "name": "stderr",
     "output_type": "stream",
     "text": [
      "/home/yehe/.local/lib/python3.9/site-packages/transformers/utils/hub.py:374: FutureWarning: The `use_auth_token` argument is deprecated and will be removed in v5 of Transformers. Please use `token` instead.\n",
      "  warnings.warn(\n"
     ]
    }
   ],
   "source": [
    "model, tokenizer = initialize_model()"
   ]
  },
  {
   "cell_type": "code",
   "execution_count": 3,
   "metadata": {},
   "outputs": [],
   "source": [
    "town_areas, world_graph = initialize_world()\n",
    "description, memories, compressed_memories, plans, locations = initialize_agent()"
   ]
  },
  {
   "cell_type": "code",
   "execution_count": 4,
   "metadata": {},
   "outputs": [],
   "source": [
    "generate_plans(description, model, tokenizer, plans)"
   ]
  },
  {
   "cell_type": "code",
   "execution_count": 5,
   "metadata": {},
   "outputs": [
    {
     "data": {
      "text/plain": [
       "{'Jack': 'Jack is a government employee, works at City Hall',\n",
       " 'Tom': 'Tom is a policeman. Tom is busy every day and needs to be responsible for the security of the town, so tom patrols the town every day.',\n",
       " 'Lee': 'Lee is a recent college graduate who just moved to this small town. Lee works at the coffee shop'}"
      ]
     },
     "execution_count": 5,
     "metadata": {},
     "output_type": "execute_result"
    }
   ],
   "source": [
    "description"
   ]
  },
  {
   "cell_type": "code",
   "execution_count": 6,
   "metadata": {},
   "outputs": [
    {
     "data": {
      "text/plain": [
       "{'Jack': '\\nMy goal for today is to meet with the mayor to discuss the recent rise in crime in Phandalin.',\n",
       " 'Tom': '\\nMy goal for today is to patrol the town and keep an eye on any suspicious activity.',\n",
       " 'Lee': \"\\n\\nI'm just trying to get through my first day in this new town. I've got a lot on my plate, but I'm excited to start my new job at the coffee shop.\"}"
      ]
     },
     "execution_count": 6,
     "metadata": {},
     "output_type": "execute_result"
    }
   ],
   "source": [
    "plans"
   ]
  },
  {
   "cell_type": "code",
   "execution_count": 7,
   "metadata": {},
   "outputs": [],
   "source": [
    "action_results = generate_action_results(town_areas, description, locations, plans, memories, model, tokenizer)"
   ]
  },
  {
   "cell_type": "code",
   "execution_count": 8,
   "metadata": {},
   "outputs": [
    {
     "data": {
      "text/plain": [
       "{'Jack': '\\nI approach Tom and say, \"Hey Tom, can we talk? Crime\\'s been on the rise lately.\"',\n",
       " 'Tom': \"\\n\\nI approach Jack and ask him if he's seen any suspicious activity lately.\",\n",
       " 'Lee': \"\\n\\nI'll head to my new coffee shop to start my first day of work.\"}"
      ]
     },
     "execution_count": 8,
     "metadata": {},
     "output_type": "execute_result"
    }
   ],
   "source": [
    "action_results"
   ]
  },
  {
   "cell_type": "code",
   "execution_count": 9,
   "metadata": {},
   "outputs": [
    {
     "data": {
      "text/plain": [
       "{'Jack': ['[Person: Jack. Memory: \\nI approach Tom and say, \"Hey Tom, can we talk? Crime\\'s been on the rise lately.\"]\\n',\n",
       "  \"[Person: Tom. Memory: \\n\\nI approach Jack and ask him if he's seen any suspicious activity lately.]\\n\",\n",
       "  \"[Person: Lee. Memory: \\n\\nI'll head to my new coffee shop to start my first day of work.]\\n\"],\n",
       " 'Tom': ['[Person: Jack. Memory: \\nI approach Tom and say, \"Hey Tom, can we talk? Crime\\'s been on the rise lately.\"]\\n',\n",
       "  \"[Person: Tom. Memory: \\n\\nI approach Jack and ask him if he's seen any suspicious activity lately.]\\n\",\n",
       "  \"[Person: Lee. Memory: \\n\\nI'll head to my new coffee shop to start my first day of work.]\\n\"],\n",
       " 'Lee': ['[Person: Jack. Memory: \\nI approach Tom and say, \"Hey Tom, can we talk? Crime\\'s been on the rise lately.\"]\\n',\n",
       "  \"[Person: Tom. Memory: \\n\\nI approach Jack and ask him if he's seen any suspicious activity lately.]\\n\",\n",
       "  \"[Person: Lee. Memory: \\n\\nI'll head to my new coffee shop to start my first day of work.]\\n\"]}"
      ]
     },
     "execution_count": 9,
     "metadata": {},
     "output_type": "execute_result"
    }
   ],
   "source": [
    "memories"
   ]
  },
  {
   "cell_type": "code",
   "execution_count": 15,
   "metadata": {},
   "outputs": [
    {
     "data": {
      "text/plain": [
       "['[Person: Jack. Memory: \\nI approach Jack and say, \"Hey Jack, how\\'s it going? Anything pressing on your plate today?\"]\\n',\n",
       " '[Person: Tom. Memory: \\nI will patrol the town and check the security of the buildings and areas. (10 words).]\\n',\n",
       " '[Person: Lee. Memory: \\nI approach Lee at the coffee shop and ask about job openings.]\\n']"
      ]
     },
     "execution_count": 15,
     "metadata": {},
     "output_type": "execute_result"
    }
   ],
   "source": [
    "memories['Tom']"
   ]
  },
  {
   "cell_type": "code",
   "execution_count": null,
   "metadata": {},
   "outputs": [],
   "source": []
  }
 ],
 "metadata": {
  "kernelspec": {
   "display_name": "Python 3 (ipykernel)",
   "language": "python",
   "name": "python3"
  },
  "language_info": {
   "codemirror_mode": {
    "name": "ipython",
    "version": 3
   },
   "file_extension": ".py",
   "mimetype": "text/x-python",
   "name": "python",
   "nbconvert_exporter": "python",
   "pygments_lexer": "ipython3",
   "version": "3.9.5"
  }
 },
 "nbformat": 4,
 "nbformat_minor": 2
}
